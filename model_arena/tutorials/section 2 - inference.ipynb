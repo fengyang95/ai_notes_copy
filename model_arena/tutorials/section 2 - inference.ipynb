{
 "cells": [
  {
   "cell_type": "markdown",
   "metadata": {},
   "source": [
    "# ModelArena WalkThrough Section 2 - Inference"
   ]
  },
  {
   "cell_type": "code",
   "execution_count": 1,
   "metadata": {},
   "outputs": [],
   "source": [
    "import warnings\n",
    "\n",
    "from model_arena import ModelArena\n",
    "\n",
    "# it is never the best practice to ignore warnings!\n",
    "# however bytedmysql never tries to solve the warnings\n",
    "# for better presentation here, we ignore these warnings\n",
    "warnings.filterwarnings(\"ignore\")\n",
    "ma = ModelArena()"
   ]
  },
  {
   "cell_type": "markdown",
   "metadata": {},
   "source": [
    "## Dataset and Model\n",
    "\n",
    "We use a demo dataset and gpt-4-0613 to walk through the infernece process."
   ]
  },
  {
   "cell_type": "code",
   "execution_count": 2,
   "metadata": {},
   "outputs": [],
   "source": [
    "dataset = \"demo\"\n",
    "model = \"gpt-4-0613\"\n",
    "model_path = ma.models.get_model_path(model)"
   ]
  },
  {
   "cell_type": "code",
   "execution_count": 3,
   "metadata": {},
   "outputs": [
    {
     "data": {
      "text/html": [
       "<div>\n",
       "<style scoped>\n",
       "    .dataframe tbody tr th:only-of-type {\n",
       "        vertical-align: middle;\n",
       "    }\n",
       "\n",
       "    .dataframe tbody tr th {\n",
       "        vertical-align: top;\n",
       "    }\n",
       "\n",
       "    .dataframe thead th {\n",
       "        text-align: right;\n",
       "    }\n",
       "</style>\n",
       "<table border=\"1\" class=\"dataframe\">\n",
       "  <thead>\n",
       "    <tr style=\"text-align: right;\">\n",
       "      <th></th>\n",
       "      <th>dataset_name</th>\n",
       "      <th>dataset_id</th>\n",
       "      <th>raw_dataset_id</th>\n",
       "      <th>tag</th>\n",
       "      <th>instruction</th>\n",
       "      <th>output</th>\n",
       "    </tr>\n",
       "  </thead>\n",
       "  <tbody>\n",
       "    <tr>\n",
       "      <th>0</th>\n",
       "      <td>demo</td>\n",
       "      <td>a051970d3095432f967e68c3049313dd</td>\n",
       "      <td>a19b72fbaa5e4bc4a3405dfed904650d</td>\n",
       "      <td>nl2code</td>\n",
       "      <td>write a quick sort in python.</td>\n",
       "      <td>None</td>\n",
       "    </tr>\n",
       "    <tr>\n",
       "      <th>1</th>\n",
       "      <td>demo</td>\n",
       "      <td>95d7220b5e814c2eadbabaab4decc4f7</td>\n",
       "      <td>2290052ff9ea4be8bb38095247713cf0</td>\n",
       "      <td>nl2code</td>\n",
       "      <td>write a bubble sort in c.</td>\n",
       "      <td>None</td>\n",
       "    </tr>\n",
       "  </tbody>\n",
       "</table>\n",
       "</div>"
      ],
      "text/plain": [
       "  dataset_name                        dataset_id  \\\n",
       "0         demo  a051970d3095432f967e68c3049313dd   \n",
       "1         demo  95d7220b5e814c2eadbabaab4decc4f7   \n",
       "\n",
       "                     raw_dataset_id      tag                    instruction  \\\n",
       "0  a19b72fbaa5e4bc4a3405dfed904650d  nl2code  write a quick sort in python.   \n",
       "1  2290052ff9ea4be8bb38095247713cf0  nl2code      write a bubble sort in c.   \n",
       "\n",
       "  output  \n",
       "0   None  \n",
       "1   None  "
      ]
     },
     "execution_count": 3,
     "metadata": {},
     "output_type": "execute_result"
    }
   ],
   "source": [
    "ma.datasets.get(datasets=dataset)"
   ]
  },
  {
   "cell_type": "markdown",
   "metadata": {},
   "source": [
    "## Define the LLMEngine\n",
    "\n",
    "To use model_arena infer the result for you. You have to initialize a proper *LLMEngine* according to your model framework.\n",
    "\n",
    "**WIP**: In future, model_arena will initalize the *LLMEngine* automatically using the framework registed in model meta information."
   ]
  },
  {
   "cell_type": "markdown",
   "metadata": {},
   "source": [
    "### BytedChatGPTEngine\n",
    "\n",
    "BytedChatGPTEngine is an engine that calls the ChatGPT model through Bytedance authentication."
   ]
  },
  {
   "cell_type": "code",
   "execution_count": 4,
   "metadata": {},
   "outputs": [],
   "source": [
    "# register the api token in environment\n",
    "import os\n",
    "\n",
    "os.environ[\"BYTED_GPT_TOKEN\"] = \"\""
   ]
  },
  {
   "cell_type": "code",
   "execution_count": 5,
   "metadata": {},
   "outputs": [],
   "source": [
    "from model_arena.core import BytedChatGPTEngine\n",
    "\n",
    "engine = BytedChatGPTEngine(\n",
    "    model=model,\n",
    "    model_path=model_path,\n",
    "    generation_kwargs={},\n",
    "    show_progress=False\n",
    ")"
   ]
  },
  {
   "cell_type": "markdown",
   "metadata": {},
   "source": [
    "Just call *infer* function, model_arena will do most of the work for you!"
   ]
  },
  {
   "cell_type": "code",
   "execution_count": 6,
   "metadata": {},
   "outputs": [
    {
     "data": {
      "text/html": [
       "<div>\n",
       "<style scoped>\n",
       "    .dataframe tbody tr th:only-of-type {\n",
       "        vertical-align: middle;\n",
       "    }\n",
       "\n",
       "    .dataframe tbody tr th {\n",
       "        vertical-align: top;\n",
       "    }\n",
       "\n",
       "    .dataframe thead th {\n",
       "        text-align: right;\n",
       "    }\n",
       "</style>\n",
       "<table border=\"1\" class=\"dataframe\">\n",
       "  <thead>\n",
       "    <tr style=\"text-align: right;\">\n",
       "      <th></th>\n",
       "      <th>dataset_name</th>\n",
       "      <th>dataset_id</th>\n",
       "      <th>model_id</th>\n",
       "      <th>prompt</th>\n",
       "      <th>output</th>\n",
       "    </tr>\n",
       "  </thead>\n",
       "  <tbody>\n",
       "    <tr>\n",
       "      <th>0</th>\n",
       "      <td>demo</td>\n",
       "      <td>95d7220b5e814c2eadbabaab4decc4f7</td>\n",
       "      <td>b62e8a8ce26e4b3cb9e208be609c1a5d</td>\n",
       "      <td>write a bubble sort in c.</td>\n",
       "      <td>Here is an example implementation of bubble so...</td>\n",
       "    </tr>\n",
       "    <tr>\n",
       "      <th>1</th>\n",
       "      <td>demo</td>\n",
       "      <td>a051970d3095432f967e68c3049313dd</td>\n",
       "      <td>b62e8a8ce26e4b3cb9e208be609c1a5d</td>\n",
       "      <td>write a quick sort in python.</td>\n",
       "      <td>Here's an implementation of quick sort in Pyth...</td>\n",
       "    </tr>\n",
       "  </tbody>\n",
       "</table>\n",
       "</div>"
      ],
      "text/plain": [
       "  dataset_name                        dataset_id  \\\n",
       "0         demo  95d7220b5e814c2eadbabaab4decc4f7   \n",
       "1         demo  a051970d3095432f967e68c3049313dd   \n",
       "\n",
       "                           model_id                         prompt  \\\n",
       "0  b62e8a8ce26e4b3cb9e208be609c1a5d      write a bubble sort in c.   \n",
       "1  b62e8a8ce26e4b3cb9e208be609c1a5d  write a quick sort in python.   \n",
       "\n",
       "                                              output  \n",
       "0  Here is an example implementation of bubble so...  \n",
       "1  Here's an implementation of quick sort in Pyth...  "
      ]
     },
     "execution_count": 6,
     "metadata": {},
     "output_type": "execute_result"
    }
   ],
   "source": [
    "# set upload=False to have debug view of inference result\n",
    "df = ma.infer(dataset=dataset, model=model, engine=engine, upload=False)\n",
    "df"
   ]
  },
  {
   "cell_type": "code",
   "execution_count": 7,
   "metadata": {},
   "outputs": [],
   "source": [
    "# you can manually check the result and then upload the result\n",
    "# ma.add_inferences(df)\n",
    "\n",
    "# if you think everything work perfectly, you can do the whole\n",
    "# process automatically\n",
    "# ma.infer(dataset=dataset, model=model, engine=engine, upload=True)"
   ]
  },
  {
   "cell_type": "markdown",
   "metadata": {},
   "source": [
    "Once you have uploaded the inference results, you can always use *get* method to retrieve your history inference results!"
   ]
  },
  {
   "cell_type": "code",
   "execution_count": 8,
   "metadata": {},
   "outputs": [
    {
     "data": {
      "text/html": [
       "<div>\n",
       "<style scoped>\n",
       "    .dataframe tbody tr th:only-of-type {\n",
       "        vertical-align: middle;\n",
       "    }\n",
       "\n",
       "    .dataframe tbody tr th {\n",
       "        vertical-align: top;\n",
       "    }\n",
       "\n",
       "    .dataframe thead th {\n",
       "        text-align: right;\n",
       "    }\n",
       "</style>\n",
       "<table border=\"1\" class=\"dataframe\">\n",
       "  <thead>\n",
       "    <tr style=\"text-align: right;\">\n",
       "      <th></th>\n",
       "      <th>dataset_name</th>\n",
       "      <th>dataset_id</th>\n",
       "      <th>tag</th>\n",
       "      <th>model_name</th>\n",
       "      <th>prompt</th>\n",
       "      <th>output</th>\n",
       "    </tr>\n",
       "  </thead>\n",
       "  <tbody>\n",
       "    <tr>\n",
       "      <th>0</th>\n",
       "      <td>demo</td>\n",
       "      <td>95d7220b5e814c2eadbabaab4decc4f7</td>\n",
       "      <td>nl2code</td>\n",
       "      <td>gpt-4-0613</td>\n",
       "      <td>write a bubble sort in c.</td>\n",
       "      <td>Here's an implementation of bubble sort in C:\\...</td>\n",
       "    </tr>\n",
       "    <tr>\n",
       "      <th>1</th>\n",
       "      <td>demo</td>\n",
       "      <td>a051970d3095432f967e68c3049313dd</td>\n",
       "      <td>nl2code</td>\n",
       "      <td>gpt-4-0613</td>\n",
       "      <td>write a quick sort in python.</td>\n",
       "      <td>Here's an implementation of quick sort in Pyth...</td>\n",
       "    </tr>\n",
       "  </tbody>\n",
       "</table>\n",
       "</div>"
      ],
      "text/plain": [
       "  dataset_name                        dataset_id      tag  model_name  \\\n",
       "0         demo  95d7220b5e814c2eadbabaab4decc4f7  nl2code  gpt-4-0613   \n",
       "1         demo  a051970d3095432f967e68c3049313dd  nl2code  gpt-4-0613   \n",
       "\n",
       "                          prompt  \\\n",
       "0      write a bubble sort in c.   \n",
       "1  write a quick sort in python.   \n",
       "\n",
       "                                              output  \n",
       "0  Here's an implementation of bubble sort in C:\\...  \n",
       "1  Here's an implementation of quick sort in Pyth...  "
      ]
     },
     "execution_count": 8,
     "metadata": {},
     "output_type": "execute_result"
    }
   ],
   "source": [
    "ma.get_inferences(datasets=dataset, models=model)"
   ]
  },
  {
   "cell_type": "markdown",
   "metadata": {},
   "source": [
    "Let's change the model to *gpt-3.5-turbo-1106*."
   ]
  },
  {
   "cell_type": "code",
   "execution_count": 9,
   "metadata": {},
   "outputs": [
    {
     "data": {
      "text/html": [
       "<div>\n",
       "<style scoped>\n",
       "    .dataframe tbody tr th:only-of-type {\n",
       "        vertical-align: middle;\n",
       "    }\n",
       "\n",
       "    .dataframe tbody tr th {\n",
       "        vertical-align: top;\n",
       "    }\n",
       "\n",
       "    .dataframe thead th {\n",
       "        text-align: right;\n",
       "    }\n",
       "</style>\n",
       "<table border=\"1\" class=\"dataframe\">\n",
       "  <thead>\n",
       "    <tr style=\"text-align: right;\">\n",
       "      <th></th>\n",
       "      <th>dataset_name</th>\n",
       "      <th>dataset_id</th>\n",
       "      <th>model_id</th>\n",
       "      <th>prompt</th>\n",
       "      <th>output</th>\n",
       "    </tr>\n",
       "  </thead>\n",
       "  <tbody>\n",
       "    <tr>\n",
       "      <th>0</th>\n",
       "      <td>demo</td>\n",
       "      <td>95d7220b5e814c2eadbabaab4decc4f7</td>\n",
       "      <td>dd078c34445049879fbcb5ae72f1d9d5</td>\n",
       "      <td>write a bubble sort in c.</td>\n",
       "      <td>Here is an implementation of bubble sort in C:...</td>\n",
       "    </tr>\n",
       "    <tr>\n",
       "      <th>1</th>\n",
       "      <td>demo</td>\n",
       "      <td>a051970d3095432f967e68c3049313dd</td>\n",
       "      <td>dd078c34445049879fbcb5ae72f1d9d5</td>\n",
       "      <td>write a quick sort in python.</td>\n",
       "      <td>Here is an implementation of quick sort in Pyt...</td>\n",
       "    </tr>\n",
       "  </tbody>\n",
       "</table>\n",
       "</div>"
      ],
      "text/plain": [
       "  dataset_name                        dataset_id  \\\n",
       "0         demo  95d7220b5e814c2eadbabaab4decc4f7   \n",
       "1         demo  a051970d3095432f967e68c3049313dd   \n",
       "\n",
       "                           model_id                         prompt  \\\n",
       "0  dd078c34445049879fbcb5ae72f1d9d5      write a bubble sort in c.   \n",
       "1  dd078c34445049879fbcb5ae72f1d9d5  write a quick sort in python.   \n",
       "\n",
       "                                              output  \n",
       "0  Here is an implementation of bubble sort in C:...  \n",
       "1  Here is an implementation of quick sort in Pyt...  "
      ]
     },
     "execution_count": 9,
     "metadata": {},
     "output_type": "execute_result"
    }
   ],
   "source": [
    "model = \"gpt-3.5-turbo-1106\"\n",
    "ma.infer(\n",
    "    dataset=dataset,\n",
    "    model=model,\n",
    "    engine=BytedChatGPTEngine(model=model, model_path=ma.models.get_model_path(model), generation_kwargs={}),\n",
    "    upload=False,\n",
    ")"
   ]
  },
  {
   "cell_type": "markdown",
   "metadata": {},
   "source": [
    "### HuggingFaceEngine\n",
    "\n",
    "HuggingFaceEngine is an engine that calls the model through huggingface text generation pipeline."
   ]
  },
  {
   "cell_type": "code",
   "execution_count": null,
   "metadata": {},
   "outputs": [],
   "source": [
    "from model_arena.core import HuggingFaceEngine\n",
    "\n",
    "model = \"deepseek-coder-6.7b-instruct\"\n",
    "model_path = ma.models.get_model_path(model)\n",
    "\n",
    "engine = HuggingFaceEngine(model=model, model_path=model_path, generation_kwargs={\"max_new_tokens\": 512})"
   ]
  },
  {
   "cell_type": "markdown",
   "metadata": {},
   "source": [
    "### vLLMEngine\n",
    "\n",
    "vLLMEngine is an engine that calls the model through vLLM."
   ]
  },
  {
   "cell_type": "code",
   "execution_count": null,
   "metadata": {},
   "outputs": [],
   "source": [
    "from model_arena.core import VLLMEngine\n",
    "\n",
    "model = \"deepseek-coder-6.7b-instruct-awq\"\n",
    "model_path = ma.models.get_model_path(model)\n",
    "\n",
    "engine = VLLMEngine(model=model, model_path=model_path, generation_kwargs={\"max_new_tokens\": 512})"
   ]
  },
  {
   "cell_type": "markdown",
   "metadata": {},
   "source": [
    "Let's retrieve all these inference result back!"
   ]
  },
  {
   "cell_type": "code",
   "execution_count": 10,
   "metadata": {},
   "outputs": [
    {
     "data": {
      "text/html": [
       "<div>\n",
       "<style scoped>\n",
       "    .dataframe tbody tr th:only-of-type {\n",
       "        vertical-align: middle;\n",
       "    }\n",
       "\n",
       "    .dataframe tbody tr th {\n",
       "        vertical-align: top;\n",
       "    }\n",
       "\n",
       "    .dataframe thead th {\n",
       "        text-align: right;\n",
       "    }\n",
       "</style>\n",
       "<table border=\"1\" class=\"dataframe\">\n",
       "  <thead>\n",
       "    <tr style=\"text-align: right;\">\n",
       "      <th></th>\n",
       "      <th>dataset_name</th>\n",
       "      <th>dataset_id</th>\n",
       "      <th>tag</th>\n",
       "      <th>model_name</th>\n",
       "      <th>prompt</th>\n",
       "      <th>output</th>\n",
       "    </tr>\n",
       "  </thead>\n",
       "  <tbody>\n",
       "    <tr>\n",
       "      <th>0</th>\n",
       "      <td>demo</td>\n",
       "      <td>a051970d3095432f967e68c3049313dd</td>\n",
       "      <td>nl2code</td>\n",
       "      <td>deepseek-coder-6.7b-instruct</td>\n",
       "      <td>You are an AI programming assistant, utilizing...</td>\n",
       "      <td>Sure, here is a simple implementation of the Q...</td>\n",
       "    </tr>\n",
       "    <tr>\n",
       "      <th>1</th>\n",
       "      <td>demo</td>\n",
       "      <td>a051970d3095432f967e68c3049313dd</td>\n",
       "      <td>nl2code</td>\n",
       "      <td>gpt-4-0613</td>\n",
       "      <td>write a quick sort in python.</td>\n",
       "      <td>Here's an implementation of quick sort in Pyth...</td>\n",
       "    </tr>\n",
       "    <tr>\n",
       "      <th>2</th>\n",
       "      <td>demo</td>\n",
       "      <td>a051970d3095432f967e68c3049313dd</td>\n",
       "      <td>nl2code</td>\n",
       "      <td>deepseek-coder-6.7b-instruct-awq</td>\n",
       "      <td>You are an AI programming assistant, utilizing...</td>\n",
       "      <td>Here is a basic implementation of Quick Sort i...</td>\n",
       "    </tr>\n",
       "    <tr>\n",
       "      <th>3</th>\n",
       "      <td>demo</td>\n",
       "      <td>a051970d3095432f967e68c3049313dd</td>\n",
       "      <td>nl2code</td>\n",
       "      <td>gpt-3.5-turbo-1106</td>\n",
       "      <td>write a quick sort in python.</td>\n",
       "      <td>Here's an implementation of quick sort in Pyth...</td>\n",
       "    </tr>\n",
       "    <tr>\n",
       "      <th>4</th>\n",
       "      <td>demo</td>\n",
       "      <td>95d7220b5e814c2eadbabaab4decc4f7</td>\n",
       "      <td>nl2code</td>\n",
       "      <td>deepseek-coder-6.7b-instruct</td>\n",
       "      <td>You are an AI programming assistant, utilizing...</td>\n",
       "      <td>Sure, here is a simple implementation of Bubbl...</td>\n",
       "    </tr>\n",
       "    <tr>\n",
       "      <th>5</th>\n",
       "      <td>demo</td>\n",
       "      <td>95d7220b5e814c2eadbabaab4decc4f7</td>\n",
       "      <td>nl2code</td>\n",
       "      <td>gpt-4-0613</td>\n",
       "      <td>write a bubble sort in c.</td>\n",
       "      <td>Here's an implementation of bubble sort in C:\\...</td>\n",
       "    </tr>\n",
       "    <tr>\n",
       "      <th>6</th>\n",
       "      <td>demo</td>\n",
       "      <td>95d7220b5e814c2eadbabaab4decc4f7</td>\n",
       "      <td>nl2code</td>\n",
       "      <td>deepseek-coder-6.7b-instruct-awq</td>\n",
       "      <td>You are an AI programming assistant, utilizing...</td>\n",
       "      <td>Sure, here is a basic implementation of Bubble...</td>\n",
       "    </tr>\n",
       "    <tr>\n",
       "      <th>7</th>\n",
       "      <td>demo</td>\n",
       "      <td>95d7220b5e814c2eadbabaab4decc4f7</td>\n",
       "      <td>nl2code</td>\n",
       "      <td>gpt-3.5-turbo-1106</td>\n",
       "      <td>write a bubble sort in c.</td>\n",
       "      <td>Here is an implementation of bubble sort in C:...</td>\n",
       "    </tr>\n",
       "  </tbody>\n",
       "</table>\n",
       "</div>"
      ],
      "text/plain": [
       "  dataset_name                        dataset_id      tag  \\\n",
       "0         demo  a051970d3095432f967e68c3049313dd  nl2code   \n",
       "1         demo  a051970d3095432f967e68c3049313dd  nl2code   \n",
       "2         demo  a051970d3095432f967e68c3049313dd  nl2code   \n",
       "3         demo  a051970d3095432f967e68c3049313dd  nl2code   \n",
       "4         demo  95d7220b5e814c2eadbabaab4decc4f7  nl2code   \n",
       "5         demo  95d7220b5e814c2eadbabaab4decc4f7  nl2code   \n",
       "6         demo  95d7220b5e814c2eadbabaab4decc4f7  nl2code   \n",
       "7         demo  95d7220b5e814c2eadbabaab4decc4f7  nl2code   \n",
       "\n",
       "                         model_name  \\\n",
       "0      deepseek-coder-6.7b-instruct   \n",
       "1                        gpt-4-0613   \n",
       "2  deepseek-coder-6.7b-instruct-awq   \n",
       "3                gpt-3.5-turbo-1106   \n",
       "4      deepseek-coder-6.7b-instruct   \n",
       "5                        gpt-4-0613   \n",
       "6  deepseek-coder-6.7b-instruct-awq   \n",
       "7                gpt-3.5-turbo-1106   \n",
       "\n",
       "                                              prompt  \\\n",
       "0  You are an AI programming assistant, utilizing...   \n",
       "1                      write a quick sort in python.   \n",
       "2  You are an AI programming assistant, utilizing...   \n",
       "3                      write a quick sort in python.   \n",
       "4  You are an AI programming assistant, utilizing...   \n",
       "5                          write a bubble sort in c.   \n",
       "6  You are an AI programming assistant, utilizing...   \n",
       "7                          write a bubble sort in c.   \n",
       "\n",
       "                                              output  \n",
       "0  Sure, here is a simple implementation of the Q...  \n",
       "1  Here's an implementation of quick sort in Pyth...  \n",
       "2  Here is a basic implementation of Quick Sort i...  \n",
       "3  Here's an implementation of quick sort in Pyth...  \n",
       "4  Sure, here is a simple implementation of Bubbl...  \n",
       "5  Here's an implementation of bubble sort in C:\\...  \n",
       "6  Sure, here is a basic implementation of Bubble...  \n",
       "7  Here is an implementation of bubble sort in C:...  "
      ]
     },
     "execution_count": 10,
     "metadata": {},
     "output_type": "execute_result"
    }
   ],
   "source": [
    "ma.get_inferences(datasets=dataset, models=\"all\")"
   ]
  }
 ],
 "metadata": {
  "fileId": "a0c3aec2-3c8f-42c8-93f1-b78d4e7c1ad9",
  "kernelspec": {
   "display_name": "Python 3.10.14 ('dev')",
   "language": "python",
   "name": "python3"
  },
  "language_info": {
   "codemirror_mode": {
    "name": "ipython",
    "version": 3
   },
   "file_extension": ".py",
   "mimetype": "text/x-python",
   "name": "python",
   "nbconvert_exporter": "python",
   "pygments_lexer": "ipython3",
   "version": "3.10.14"
  },
  "orig_nbformat": 4,
  "vscode": {
   "interpreter": {
    "hash": "d0f099f67d4d7902d3e9a47149eb933922f2b4c1d7e19c3718edb5a418ba9c6a"
   }
  }
 },
 "nbformat": 4,
 "nbformat_minor": 2
}
